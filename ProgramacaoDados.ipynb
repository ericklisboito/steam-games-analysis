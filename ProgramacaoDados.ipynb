{
  "nbformat": 4,
  "nbformat_minor": 0,
  "metadata": {
    "colab": {
      "provenance": []
    },
    "kernelspec": {
      "name": "python3",
      "display_name": "Python 3"
    },
    "language_info": {
      "name": "python"
    }
  },
  "cells": [
    {
      "cell_type": "code",
      "source": [
        "from google.colab import files\n",
        "import csv\n",
        "\n",
        "uploaded = files.upload()\n",
        "\n",
        "class SteamDataAnalyzer:\n",
        "    def __init__(self, file_path):\n",
        "        self.file_path = file_path\n",
        "        self.games = []\n",
        "        self.load_data()\n",
        "\n",
        "    def load_data(self):\n",
        "        with open(self.file_path, mode='r', encoding='utf-8') as file:\n",
        "            reader = csv.DictReader(file)\n",
        "            self.games = list(reader)\n",
        "\n",
        "    def get_free_vs_paid_percentage(self):\n",
        "        total_games = len(self.games)\n",
        "        free_games = sum(1 for game in self.games if game['Price'] == '0')\n",
        "        paid_games = total_games - free_games\n",
        "        return {\n",
        "            'free': (free_games / total_games) * 100,\n",
        "            'paid': (paid_games / total_games) * 100\n",
        "        }\n",
        "\n",
        "    def get_year_with_most_games(self):\n",
        "        year_count = {}\n",
        "        for game in self.games:\n",
        "            year = game['Release date'].split('-')[0]\n",
        "            if year in year_count:\n",
        "                year_count[year] += 1\n",
        "            else:\n",
        "                year_count[year] = 1\n",
        "\n",
        "        max_count = max(year_count.values())\n",
        "        years = [year for year, count in year_count.items() if count == max_count]\n",
        "        return years\n",
        "\n",
        "    def get_most_prolific_developer(self):\n",
        "        developer_count = {}\n",
        "        for game in self.games:\n",
        "            developers = game['Developers'].split(';')\n",
        "            for dev in developers:\n",
        "                dev = dev.strip()\n",
        "                if dev in developer_count:\n",
        "                    developer_count[dev] += 1\n",
        "                else:\n",
        "                    developer_count[dev] = 1\n",
        "\n",
        "        max_games = max(developer_count.values())\n",
        "        most_prolific = [dev for dev, count in developer_count.items() if count == max_games]\n",
        "        return most_prolific"
      ],
      "metadata": {
        "colab": {
          "base_uri": "https://localhost:8080/",
          "height": 73
        },
        "id": "0wfMjFS45Umo",
        "outputId": "5f091c41-8d43-4720-be7e-6966dcfa1107"
      },
      "execution_count": 15,
      "outputs": [
        {
          "output_type": "display_data",
          "data": {
            "text/plain": [
              "<IPython.core.display.HTML object>"
            ],
            "text/html": [
              "\n",
              "     <input type=\"file\" id=\"files-2bb1a258-697c-4946-bbf9-6ad08b5c482d\" name=\"files[]\" multiple disabled\n",
              "        style=\"border:none\" />\n",
              "     <output id=\"result-2bb1a258-697c-4946-bbf9-6ad08b5c482d\">\n",
              "      Upload widget is only available when the cell has been executed in the\n",
              "      current browser session. Please rerun this cell to enable.\n",
              "      </output>\n",
              "      <script>// Copyright 2017 Google LLC\n",
              "//\n",
              "// Licensed under the Apache License, Version 2.0 (the \"License\");\n",
              "// you may not use this file except in compliance with the License.\n",
              "// You may obtain a copy of the License at\n",
              "//\n",
              "//      http://www.apache.org/licenses/LICENSE-2.0\n",
              "//\n",
              "// Unless required by applicable law or agreed to in writing, software\n",
              "// distributed under the License is distributed on an \"AS IS\" BASIS,\n",
              "// WITHOUT WARRANTIES OR CONDITIONS OF ANY KIND, either express or implied.\n",
              "// See the License for the specific language governing permissions and\n",
              "// limitations under the License.\n",
              "\n",
              "/**\n",
              " * @fileoverview Helpers for google.colab Python module.\n",
              " */\n",
              "(function(scope) {\n",
              "function span(text, styleAttributes = {}) {\n",
              "  const element = document.createElement('span');\n",
              "  element.textContent = text;\n",
              "  for (const key of Object.keys(styleAttributes)) {\n",
              "    element.style[key] = styleAttributes[key];\n",
              "  }\n",
              "  return element;\n",
              "}\n",
              "\n",
              "// Max number of bytes which will be uploaded at a time.\n",
              "const MAX_PAYLOAD_SIZE = 100 * 1024;\n",
              "\n",
              "function _uploadFiles(inputId, outputId) {\n",
              "  const steps = uploadFilesStep(inputId, outputId);\n",
              "  const outputElement = document.getElementById(outputId);\n",
              "  // Cache steps on the outputElement to make it available for the next call\n",
              "  // to uploadFilesContinue from Python.\n",
              "  outputElement.steps = steps;\n",
              "\n",
              "  return _uploadFilesContinue(outputId);\n",
              "}\n",
              "\n",
              "// This is roughly an async generator (not supported in the browser yet),\n",
              "// where there are multiple asynchronous steps and the Python side is going\n",
              "// to poll for completion of each step.\n",
              "// This uses a Promise to block the python side on completion of each step,\n",
              "// then passes the result of the previous step as the input to the next step.\n",
              "function _uploadFilesContinue(outputId) {\n",
              "  const outputElement = document.getElementById(outputId);\n",
              "  const steps = outputElement.steps;\n",
              "\n",
              "  const next = steps.next(outputElement.lastPromiseValue);\n",
              "  return Promise.resolve(next.value.promise).then((value) => {\n",
              "    // Cache the last promise value to make it available to the next\n",
              "    // step of the generator.\n",
              "    outputElement.lastPromiseValue = value;\n",
              "    return next.value.response;\n",
              "  });\n",
              "}\n",
              "\n",
              "/**\n",
              " * Generator function which is called between each async step of the upload\n",
              " * process.\n",
              " * @param {string} inputId Element ID of the input file picker element.\n",
              " * @param {string} outputId Element ID of the output display.\n",
              " * @return {!Iterable<!Object>} Iterable of next steps.\n",
              " */\n",
              "function* uploadFilesStep(inputId, outputId) {\n",
              "  const inputElement = document.getElementById(inputId);\n",
              "  inputElement.disabled = false;\n",
              "\n",
              "  const outputElement = document.getElementById(outputId);\n",
              "  outputElement.innerHTML = '';\n",
              "\n",
              "  const pickedPromise = new Promise((resolve) => {\n",
              "    inputElement.addEventListener('change', (e) => {\n",
              "      resolve(e.target.files);\n",
              "    });\n",
              "  });\n",
              "\n",
              "  const cancel = document.createElement('button');\n",
              "  inputElement.parentElement.appendChild(cancel);\n",
              "  cancel.textContent = 'Cancel upload';\n",
              "  const cancelPromise = new Promise((resolve) => {\n",
              "    cancel.onclick = () => {\n",
              "      resolve(null);\n",
              "    };\n",
              "  });\n",
              "\n",
              "  // Wait for the user to pick the files.\n",
              "  const files = yield {\n",
              "    promise: Promise.race([pickedPromise, cancelPromise]),\n",
              "    response: {\n",
              "      action: 'starting',\n",
              "    }\n",
              "  };\n",
              "\n",
              "  cancel.remove();\n",
              "\n",
              "  // Disable the input element since further picks are not allowed.\n",
              "  inputElement.disabled = true;\n",
              "\n",
              "  if (!files) {\n",
              "    return {\n",
              "      response: {\n",
              "        action: 'complete',\n",
              "      }\n",
              "    };\n",
              "  }\n",
              "\n",
              "  for (const file of files) {\n",
              "    const li = document.createElement('li');\n",
              "    li.append(span(file.name, {fontWeight: 'bold'}));\n",
              "    li.append(span(\n",
              "        `(${file.type || 'n/a'}) - ${file.size} bytes, ` +\n",
              "        `last modified: ${\n",
              "            file.lastModifiedDate ? file.lastModifiedDate.toLocaleDateString() :\n",
              "                                    'n/a'} - `));\n",
              "    const percent = span('0% done');\n",
              "    li.appendChild(percent);\n",
              "\n",
              "    outputElement.appendChild(li);\n",
              "\n",
              "    const fileDataPromise = new Promise((resolve) => {\n",
              "      const reader = new FileReader();\n",
              "      reader.onload = (e) => {\n",
              "        resolve(e.target.result);\n",
              "      };\n",
              "      reader.readAsArrayBuffer(file);\n",
              "    });\n",
              "    // Wait for the data to be ready.\n",
              "    let fileData = yield {\n",
              "      promise: fileDataPromise,\n",
              "      response: {\n",
              "        action: 'continue',\n",
              "      }\n",
              "    };\n",
              "\n",
              "    // Use a chunked sending to avoid message size limits. See b/62115660.\n",
              "    let position = 0;\n",
              "    do {\n",
              "      const length = Math.min(fileData.byteLength - position, MAX_PAYLOAD_SIZE);\n",
              "      const chunk = new Uint8Array(fileData, position, length);\n",
              "      position += length;\n",
              "\n",
              "      const base64 = btoa(String.fromCharCode.apply(null, chunk));\n",
              "      yield {\n",
              "        response: {\n",
              "          action: 'append',\n",
              "          file: file.name,\n",
              "          data: base64,\n",
              "        },\n",
              "      };\n",
              "\n",
              "      let percentDone = fileData.byteLength === 0 ?\n",
              "          100 :\n",
              "          Math.round((position / fileData.byteLength) * 100);\n",
              "      percent.textContent = `${percentDone}% done`;\n",
              "\n",
              "    } while (position < fileData.byteLength);\n",
              "  }\n",
              "\n",
              "  // All done.\n",
              "  yield {\n",
              "    response: {\n",
              "      action: 'complete',\n",
              "    }\n",
              "  };\n",
              "}\n",
              "\n",
              "scope.google = scope.google || {};\n",
              "scope.google.colab = scope.google.colab || {};\n",
              "scope.google.colab._files = {\n",
              "  _uploadFiles,\n",
              "  _uploadFilesContinue,\n",
              "};\n",
              "})(self);\n",
              "</script> "
            ]
          },
          "metadata": {}
        },
        {
          "output_type": "stream",
          "name": "stdout",
          "text": [
            "Saving steam_games.csv to steam_games (1).csv\n"
          ]
        }
      ]
    },
    {
      "cell_type": "code",
      "source": [
        "analyzer = SteamDataAnalyzer('/content/steam_games.csv')"
      ],
      "metadata": {
        "id": "GpGkbAajGata"
      },
      "execution_count": 19,
      "outputs": []
    },
    {
      "cell_type": "code",
      "source": [
        "for i, game in enumerate(analyzer.games[:5]):\n",
        "    print(f\"Jogo {i+1}: {game}\")"
      ],
      "metadata": {
        "colab": {
          "base_uri": "https://localhost:8080/"
        },
        "id": "YTzp_gDpGwJ4",
        "outputId": "e341d72f-d03a-491d-e1ae-6207a286b8e0"
      },
      "execution_count": 21,
      "outputs": [
        {
          "output_type": "stream",
          "name": "stdout",
          "text": [
            "Jogo 1: {'AppID': '20200', 'Name': 'Galactic Bowling', 'Release date': 'Oct 21, 2008', 'Estimated owners': '0 - 20000', 'Peak CCU': '0', 'Required age': '0', 'Price': '19.99', 'DLC count': '0', 'About the game': 'Galactic Bowling is an exaggerated and stylized bowling game with an intergalactic twist. Players will engage in fast-paced single and multi-player competition while being submerged in a unique new universe filled with over-the-top humor, wild characters, unique levels, and addictive game play. The title is aimed at players of all ages and skill sets. Through accessible and intuitive controls and game-play, Galactic Bowling allows you to jump right into the action. A single-player campaign and online play allow you to work your way up the ranks of the Galactic Bowling League! Whether you have hours to play or only a few minutes, Galactic Bowling is a fast paced and entertaining experience that will leave you wanting more! Full Single-player story campaign including 11 Characters and Environments. 2 Single-player play modes including Regular and Battle Modes. Head to Head Online Multiplayer play Modes. Super Powers, Special Balls, and Whammies. Unlockable Characters, Environments, and Minigames. Unlock all 30 Steam Achievements!', 'Supported languages': \"['English']\", 'Full audio languages': '[]', 'Reviews': '', 'Header image': 'https://cdn.akamai.steamstatic.com/steam/apps/20200/header.jpg?t=1640121033', 'Website': 'http://www.galacticbowling.net', 'Support url': '', 'Support email': '', 'Windows': 'True', 'Mac': 'False', 'Linux': 'False', 'Metacritic score': '0', 'Metacritic url': '', 'User score': '0', 'Positive': '6', 'Negative': '11', 'Score rank': '', 'Achievements': '30', 'Recommendations': '0', 'Notes': '', 'Average playtime forever': '0', 'Average playtime two weeks': '0', 'Median playtime forever': '0', 'Median playtime two weeks': '0', 'Developers': 'Perpetual FX Creative', 'Publishers': 'Perpetual FX Creative', 'Categories': 'Single-player,Multi-player,Steam Achievements,Partial Controller Support', 'Genres': 'Casual,Indie,Sports', 'Tags': 'Indie,Casual,Sports,Bowling', 'Screenshots': 'https://cdn.akamai.steamstatic.com/steam/apps/20200/0000005994.1920x1080.jpg?t=1640121033,https://cdn.akamai.steamstatic.com/steam/apps/20200/0000005993.1920x1080.jpg?t=1640121033,https://cdn.akamai.steamstatic.com/steam/apps/20200/0000005992.1920x1080.jpg?t=1640121033,https://cdn.akamai.steamstatic.com/steam/apps/20200/0000006011.1920x1080.jpg?t=1640121033,https://cdn.akamai.steamstatic.com/steam/apps/20200/0000005685.1920x1080.jpg?t=1640121033,https://cdn.akamai.steamstatic.com/steam/apps/20200/0000005686.1920x1080.jpg?t=1640121033,https://cdn.akamai.steamstatic.com/steam/apps/20200/0000005995.1920x1080.jpg?t=1640121033,https://cdn.akamai.steamstatic.com/steam/apps/20200/0000005688.1920x1080.jpg?t=1640121033,https://cdn.akamai.steamstatic.com/steam/apps/20200/0000005689.1920x1080.jpg?t=1640121033,https://cdn.akamai.steamstatic.com/steam/apps/20200/0000005690.1920x1080.jpg?t=1640121033', 'Movies': 'http://cdn.akamai.steamstatic.com/steam/apps/256863704/movie_max.mp4?t=1638854607'}\n",
            "Jogo 2: {'AppID': '655370', 'Name': 'Train Bandit', 'Release date': 'Oct 12, 2017', 'Estimated owners': '0 - 20000', 'Peak CCU': '0', 'Required age': '0', 'Price': '0.99', 'DLC count': '0', 'About the game': \"THE LAW!! Looks to be a showdown atop a train. This will be your last fight. Good luck, Train Bandit. WHAT IS THIS GAME? Train Bandit is a simple score attack game. The Law will attack you from both sides. Your weapon is your keyboard. You'll use those keys to kick the living shit out of the law. React quickly by attacking the correct direction. React...or you're dead. THE FEATURES Unlock new bandits Earn Achievements Become Steam's Most Wanted ? Battle elite officers Kick the law's ass\", 'Supported languages': \"['English', 'French', 'Italian', 'German', 'Spanish - Spain', 'Japanese', 'Portuguese - Brazil', 'Russian', 'Simplified Chinese', 'Traditional Chinese']\", 'Full audio languages': '[]', 'Reviews': '', 'Header image': 'https://cdn.akamai.steamstatic.com/steam/apps/655370/header.jpg?t=1617500526', 'Website': 'http://trainbandit.com', 'Support url': '', 'Support email': 'support@rustymoyher.com', 'Windows': 'True', 'Mac': 'True', 'Linux': 'False', 'Metacritic score': '0', 'Metacritic url': '', 'User score': '0', 'Positive': '53', 'Negative': '5', 'Score rank': '', 'Achievements': '12', 'Recommendations': '0', 'Notes': '', 'Average playtime forever': '0', 'Average playtime two weeks': '0', 'Median playtime forever': '0', 'Median playtime two weeks': '0', 'Developers': 'Rusty Moyher', 'Publishers': 'Wild Rooster', 'Categories': 'Single-player,Steam Achievements,Full controller support,Steam Leaderboards,Remote Play on Phone,Remote Play on Tablet,Remote Play on TV', 'Genres': 'Action,Indie', 'Tags': 'Indie,Action,Pixel Graphics,2D,Retro,Arcade,Score Attack,Minimalist,Comedy,Singleplayer,Fast-Paced,Casual,Funny,Parody,Difficult,Gore,Violent,Western,Controller,Blood', 'Screenshots': 'https://cdn.akamai.steamstatic.com/steam/apps/655370/ss_16785eac54b29db688870e832f6997c89cd7804b.1920x1080.jpg?t=1617500526,https://cdn.akamai.steamstatic.com/steam/apps/655370/ss_599ad201ec3bb869449aaab4d0b103e220645762.1920x1080.jpg?t=1617500526,https://cdn.akamai.steamstatic.com/steam/apps/655370/ss_a26cfed1bc3e9ca4225fdc9d5c10681cfeb4f106.1920x1080.jpg?t=1617500526,https://cdn.akamai.steamstatic.com/steam/apps/655370/ss_9b815c0ec4996783088d82d22105caa1c044acad.1920x1080.jpg?t=1617500526,https://cdn.akamai.steamstatic.com/steam/apps/655370/ss_b5aada1bd265ff4b34116794fb937ad62e2882bb.1920x1080.jpg?t=1617500526', 'Movies': 'http://cdn.akamai.steamstatic.com/steam/apps/256691108/movie_max.mp4?t=1506089586'}\n",
            "Jogo 3: {'AppID': '1732930', 'Name': 'Jolt Project', 'Release date': 'Nov 17, 2021', 'Estimated owners': '0 - 20000', 'Peak CCU': '0', 'Required age': '0', 'Price': '4.99', 'DLC count': '0', 'About the game': \"Jolt Project: The army now has a new robotics project, jolt. It's up to you to control it and ensure the success of the missions! There are 9 stages of taking the breath away with the right difficulty and good gameplay. Plus an insane way of survival! Fire missiles at cars, tanks, helicopters and turrets! The fun is guaranteed! Use your mouse to aim and shoot and take out the enemies! In this game you will have to be aware of the various enemies who will do everything to destroy your charges and prevent the success of your mission! Cartoon-style graphics are optimized and fun and generate an excellent gaming environment!\", 'Supported languages': \"['English', 'Portuguese - Brazil']\", 'Full audio languages': '[]', 'Reviews': '', 'Header image': 'https://cdn.akamai.steamstatic.com/steam/apps/1732930/header.jpg?t=1637149386', 'Website': '', 'Support url': '', 'Support email': 'ramoncampiaof31@gmail.com', 'Windows': 'True', 'Mac': 'False', 'Linux': 'False', 'Metacritic score': '0', 'Metacritic url': '', 'User score': '0', 'Positive': '0', 'Negative': '0', 'Score rank': '', 'Achievements': '0', 'Recommendations': '0', 'Notes': '', 'Average playtime forever': '0', 'Average playtime two weeks': '0', 'Median playtime forever': '0', 'Median playtime two weeks': '0', 'Developers': 'Campião Games', 'Publishers': 'Campião Games', 'Categories': 'Single-player', 'Genres': 'Action,Adventure,Indie,Strategy', 'Tags': '', 'Screenshots': 'https://cdn.akamai.steamstatic.com/steam/apps/1732930/ss_09d67dec0607be7c4ead80289763033a47c86d89.1920x1080.jpg?t=1637149386,https://cdn.akamai.steamstatic.com/steam/apps/1732930/ss_119713aa971021a5fe24ee241c4be9329d1a37ab.1920x1080.jpg?t=1637149386,https://cdn.akamai.steamstatic.com/steam/apps/1732930/ss_04221851fa82047cee95243edf20e413a35ff410.1920x1080.jpg?t=1637149386,https://cdn.akamai.steamstatic.com/steam/apps/1732930/ss_fb210f530ebe006066bfb5dff35d3c68f858f60e.1920x1080.jpg?t=1637149386,https://cdn.akamai.steamstatic.com/steam/apps/1732930/ss_f43db212224f5b33a0ef530a75c3f852d35e9342.1920x1080.jpg?t=1637149386,https://cdn.akamai.steamstatic.com/steam/apps/1732930/ss_eeb31f8499720fc1b20342f74f0040ca2f190881.1920x1080.jpg?t=1637149386', 'Movies': 'http://cdn.akamai.steamstatic.com/steam/apps/256847488/movie_max.mp4?t=1635980739,http://cdn.akamai.steamstatic.com/steam/apps/256847487/movie_max.mp4?t=1635980747'}\n",
            "Jogo 4: {'AppID': '1355720', 'Name': 'Henosis™', 'Release date': 'Jul 23, 2020', 'Estimated owners': '0 - 20000', 'Peak CCU': '0', 'Required age': '0', 'Price': '5.99', 'DLC count': '0', 'About the game': 'HENOSIS™ is a mysterious 2D Platform Puzzler where players are propelled into weird and visceral worlds as they take control of a small, droplet of water while overcoming obstacles and enemies throughout each level. The Player must venture through each world as it collects precious water tokens in order open the exit portal and restore vitality to its drought-ridden home world. Features: Traverse your way through 27 hand-crafted levels Unique player mechanics Battle menacing bosses across 3 distinct worlds* Original artwork &amp; animation Full controller support Localization support * Hidden world included!', 'Supported languages': \"['English', 'French', 'Italian', 'German', 'Spanish - Spain', 'Japanese', 'Korean', 'Portuguese', 'Russian', 'Simplified Chinese', 'Traditional Chinese']\", 'Full audio languages': '[]', 'Reviews': '', 'Header image': 'https://cdn.akamai.steamstatic.com/steam/apps/1355720/header.jpg?t=1639875115', 'Website': 'https://henosisgame.com/', 'Support url': 'https://henosisgame.com/', 'Support email': 'info@henosisgame.com', 'Windows': 'True', 'Mac': 'True', 'Linux': 'True', 'Metacritic score': '0', 'Metacritic url': '', 'User score': '0', 'Positive': '3', 'Negative': '0', 'Score rank': '', 'Achievements': '0', 'Recommendations': '0', 'Notes': '', 'Average playtime forever': '0', 'Average playtime two weeks': '0', 'Median playtime forever': '0', 'Median playtime two weeks': '0', 'Developers': 'Odd Critter Games', 'Publishers': 'Odd Critter Games', 'Categories': 'Single-player,Full controller support', 'Genres': 'Adventure,Casual,Indie', 'Tags': '2D Platformer,Atmospheric,Surreal,Mystery,Puzzle,Survival,Adventure,Linear,Singleplayer,Experimental,Platformer,Precision Platformer,Puzzle-Platformer,2D,Stylized,Physics,Time Manipulation,Casual,Indie', 'Screenshots': 'https://cdn.akamai.steamstatic.com/steam/apps/1355720/ss_20bbae2d9d5aaa2f043f372a551faabc0c47b0b4.1920x1080.jpg?t=1639875115,https://cdn.akamai.steamstatic.com/steam/apps/1355720/ss_d471414fcb5b734a198533f7d068e1931b778546.1920x1080.jpg?t=1639875115,https://cdn.akamai.steamstatic.com/steam/apps/1355720/ss_64739e5a9a48355814505d85203f9fd6521564ca.1920x1080.jpg?t=1639875115,https://cdn.akamai.steamstatic.com/steam/apps/1355720/ss_5ecf89d6ac345779da09f7d42b232c371d500e90.1920x1080.jpg?t=1639875115,https://cdn.akamai.steamstatic.com/steam/apps/1355720/ss_ed65011a9294f333d9ad1dd3378251b0410e3f51.1920x1080.jpg?t=1639875115,https://cdn.akamai.steamstatic.com/steam/apps/1355720/ss_d2ae58e4a8a88446ab4bb3a1eea5f3ab412efd0e.1920x1080.jpg?t=1639875115,https://cdn.akamai.steamstatic.com/steam/apps/1355720/ss_9bfed05ab4ff0ab6e55318af8ebc0ecb10bfb7da.1920x1080.jpg?t=1639875115', 'Movies': 'http://cdn.akamai.steamstatic.com/steam/apps/256819153/movie_max.mp4?t=1611314333'}\n",
            "Jogo 5: {'AppID': '1139950', 'Name': 'Two Weeks in Painland', 'Release date': 'Feb 3, 2020', 'Estimated owners': '0 - 20000', 'Peak CCU': '0', 'Required age': '0', 'Price': '0.0', 'DLC count': '0', 'About the game': 'ABOUT THE GAME Play as a hacker who has arranged a deal with a gangster. That’s how the protagonist, Jack, is assigned a mission that should be accomplished in a specific timeframe, which he will find out soon enough. THE GAME’S FEATURES Spy on 4 senior managers within an organization to find out about their personalities. Manage the recruitment process in the organization to improve the work climate. Hack the candidates who want to get into the organization to make your job easier. Try to avoid having your physical health impacted negatively in the process. All of this while you enjoy an interesting story full of humor and action that evolves along with the game.', 'Supported languages': \"['English', 'Spanish - Spain']\", 'Full audio languages': '[]', 'Reviews': '', 'Header image': 'https://cdn.akamai.steamstatic.com/steam/apps/1139950/header.jpg?t=1595003825', 'Website': 'https://www.unusual-games.com/home/', 'Support url': 'https://www.unusual-games.com/contact/', 'Support email': 'welistentoyou@unusual-games.com', 'Windows': 'True', 'Mac': 'True', 'Linux': 'False', 'Metacritic score': '0', 'Metacritic url': '', 'User score': '0', 'Positive': '50', 'Negative': '8', 'Score rank': '', 'Achievements': '17', 'Recommendations': '0', 'Notes': 'This Game may contain content not appropriate for all ages, or may not be appropriate for viewing at work: violence, general Mature Content.', 'Average playtime forever': '0', 'Average playtime two weeks': '0', 'Median playtime forever': '0', 'Median playtime two weeks': '0', 'Developers': 'Unusual Games', 'Publishers': 'Unusual Games', 'Categories': 'Single-player,Steam Achievements', 'Genres': 'Adventure,Indie', 'Tags': 'Indie,Adventure,Nudity,Violent,Sexual Content,Story Rich', 'Screenshots': 'https://cdn.akamai.steamstatic.com/steam/apps/1139950/ss_cb94604e43f910a3b994f120412bdc5a576222ad.1920x1080.jpg?t=1595003825,https://cdn.akamai.steamstatic.com/steam/apps/1139950/ss_8602d875f27d7966e718f917725ac990f70179d7.1920x1080.jpg?t=1595003825,https://cdn.akamai.steamstatic.com/steam/apps/1139950/ss_750a7f351da65eb0b5ef9724e5af211b2f6a0f5d.1920x1080.jpg?t=1595003825,https://cdn.akamai.steamstatic.com/steam/apps/1139950/ss_2660287cf061716e420e2752d54f7affcac87fce.1920x1080.jpg?t=1595003825,https://cdn.akamai.steamstatic.com/steam/apps/1139950/ss_3ba71b7d24b127ebe71de98c65774428bd5c6f2c.1920x1080.jpg?t=1595003825,https://cdn.akamai.steamstatic.com/steam/apps/1139950/ss_f582e3a210bfc9bff61063a5b145df07b0c030e0.1920x1080.jpg?t=1595003825,https://cdn.akamai.steamstatic.com/steam/apps/1139950/ss_8459843b2a4165863ff49b9cb7d9482069cc3911.1920x1080.jpg?t=1595003825,https://cdn.akamai.steamstatic.com/steam/apps/1139950/ss_4c6feb0ea8e5d1828f2586a67db9876743c06913.1920x1080.jpg?t=1595003825,https://cdn.akamai.steamstatic.com/steam/apps/1139950/ss_938e7ed4e1aa6e98fec94d160e307f4550003724.1920x1080.jpg?t=1595003825,https://cdn.akamai.steamstatic.com/steam/apps/1139950/ss_027259a3ce6d57477cfbd0fc8aa4a5b6595e9b88.1920x1080.jpg?t=1595003825,https://cdn.akamai.steamstatic.com/steam/apps/1139950/ss_703a4e9ddef98abe19a7b2915a9be6014fa3b5c4.1920x1080.jpg?t=1595003825,https://cdn.akamai.steamstatic.com/steam/apps/1139950/ss_90cb78e6f3192daee93fd3e0f11f0170e90660bf.1920x1080.jpg?t=1595003825,https://cdn.akamai.steamstatic.com/steam/apps/1139950/ss_1490715a41680ec76aab438d519a92b504e301ca.1920x1080.jpg?t=1595003825,https://cdn.akamai.steamstatic.com/steam/apps/1139950/ss_d2103c1ca519acae9cf6ad6a90f3b5d033303a6f.1920x1080.jpg?t=1595003825,https://cdn.akamai.steamstatic.com/steam/apps/1139950/ss_d5f907cb7691ffadb76e34023f2ff9944b75177e.1920x1080.jpg?t=1595003825,https://cdn.akamai.steamstatic.com/steam/apps/1139950/ss_dd48fad56a50c7897d10bc2023ebe0fff3c1c188.1920x1080.jpg?t=1595003825,https://cdn.akamai.steamstatic.com/steam/apps/1139950/ss_016f563890ded89c430418dbbf97c64d30690a47.1920x1080.jpg?t=1595003825,https://cdn.akamai.steamstatic.com/steam/apps/1139950/ss_29c4074806a5d473581bac47e472c86cb08bd0cd.1920x1080.jpg?t=1595003825,https://cdn.akamai.steamstatic.com/steam/apps/1139950/ss_c989d7ddeba60b79defbe979d0107d1d8e3a28cd.1920x1080.jpg?t=1595003825,https://cdn.akamai.steamstatic.com/steam/apps/1139950/ss_58534757acea102b2d0bfef8d69e737731c73fae.1920x1080.jpg?t=1595003825,https://cdn.akamai.steamstatic.com/steam/apps/1139950/ss_83ffde6b8dfe87c8542703f1977fe101d0d4fdf1.1920x1080.jpg?t=1595003825,https://cdn.akamai.steamstatic.com/steam/apps/1139950/ss_fc23c9dcb75d2560a423c80576cc31d89203c8b8.1920x1080.jpg?t=1595003825,https://cdn.akamai.steamstatic.com/steam/apps/1139950/ss_c88d7474afbf3434fa5d747a4f1ae3fd18ed7fa4.1920x1080.jpg?t=1595003825,https://cdn.akamai.steamstatic.com/steam/apps/1139950/ss_03f5a65292318739dcfca2751250c3030b31ee50.1920x1080.jpg?t=1595003825', 'Movies': 'http://cdn.akamai.steamstatic.com/steam/apps/256764430/movie_max.mp4?t=1580660973'}\n"
          ]
        }
      ]
    },
    {
      "cell_type": "code",
      "source": [
        "import csv\n",
        "\n",
        "# Definição da classe para análise de dados da Steam\n",
        "class SteamDataAnalyzer:\n",
        "    def __init__(self, file_path):\n",
        "        self.file_path = file_path\n",
        "        self.games = []\n",
        "        self.load_data()\n",
        "\n",
        "    def load_data(self):\n",
        "        with open(self.file_path, mode='r', encoding='utf-8') as file:\n",
        "            reader = csv.DictReader(file)\n",
        "            self.games = list(reader)\n",
        "\n",
        "    def get_free_vs_paid_percentage(self):\n",
        "        total_games = len(self.games)\n",
        "        free_games = sum(1 for game in self.games if game['Price'].strip() == '0' or game['Price'].strip() == '0.00')\n",
        "        paid_games = total_games - free_games\n",
        "        return {\n",
        "            'free': (free_games / total_games) * 100 if total_games else 0,\n",
        "            'paid': (paid_games / total_games) * 100 if total_games else 0\n",
        "        }\n",
        "\n",
        "    def get_year_with_most_games(self):\n",
        "        year_count = {}\n",
        "        for game in self.games:\n",
        "            release_date = game['Release date'].strip()\n",
        "\n",
        "            # Lidar com diferentes formatos de data ou dados ausentes\n",
        "            if '-' in release_date:  # Formato YYYY-MM-DD\n",
        "                year = release_date.split('-')[0]\n",
        "            elif ',' in release_date:  # Formato \"Dec 1, 2022\"\n",
        "                year = release_date.split(',')[-1].strip()\n",
        "            else:\n",
        "                year = 'Unknown'\n",
        "\n",
        "            if year not in year_count:\n",
        "                year_count[year] = 0\n",
        "            year_count[year] += 1\n",
        "\n",
        "        # Remover entradas 'Unknown' se presentes\n",
        "        if 'Unknown' in year_count:\n",
        "            del year_count['Unknown']\n",
        "\n",
        "        max_count = max(year_count.values())\n",
        "        years = [year for year, count in year_count.items() if count == max_count]\n",
        "        return years\n",
        "\n",
        "    def get_most_prolific_developer(self):\n",
        "        developer_count = {}\n",
        "        for game in self.games:\n",
        "            developers = game['Developers'].split(';')\n",
        "            for dev in developers:\n",
        "                dev = dev.strip()\n",
        "                if dev:\n",
        "                    if dev not in developer_count:\n",
        "                        developer_count[dev] = 0\n",
        "                    developer_count[dev] += 1\n",
        "\n",
        "        max_games = max(developer_count.values(), default=0)\n",
        "        most_prolific = [dev for dev, count in developer_count.items() if count == max_games]\n",
        "        return most_prolific\n",
        "\n",
        "# Instanciação da classe com o caminho do arquivo no sample_data\n",
        "analyzer = SteamDataAnalyzer('/content/sample_data/steam_games.csv')\n",
        "\n",
        "# Consulta 1: Percentual de jogos gratuitos e pagos\n",
        "free_vs_paid = analyzer.get_free_vs_paid_percentage()\n",
        "print(f\"Percentual de jogos gratuitos: {free_vs_paid['free']:.2f}%\")\n",
        "print(f\"Percentual de jogos pagos: {free_vs_paid['paid']:.2f}%\")\n",
        "\n",
        "# Consulta 2: Ano com o maior número de jogos lançados\n",
        "most_active_years = analyzer.get_year_with_most_games()\n",
        "print(f\"Ano(s) com o maior número de jogos lançados: {', '.join(most_active_years)}\")\n",
        "\n",
        "# Consulta 3: Desenvolvedor mais prolífico\n",
        "most_prolific_dev = analyzer.get_most_prolific_developer()\n",
        "print(f\"Desenvolvedor(es) mais prolífico(s): {', '.join(most_prolific_dev)}\")"
      ],
      "metadata": {
        "colab": {
          "base_uri": "https://localhost:8080/"
        },
        "id": "cHGonZ23G1Ul",
        "outputId": "42419dd4-9412-4ffb-82bb-6f55fdfacf8f"
      },
      "execution_count": 23,
      "outputs": [
        {
          "output_type": "stream",
          "name": "stdout",
          "text": [
            "Percentual de jogos gratuitos: 0.00%\n",
            "Percentual de jogos pagos: 100.00%\n",
            "Ano(s) com o maior número de jogos lançados: 2022\n",
            "Desenvolvedor(es) mais prolífico(s): Choice of Games\n"
          ]
        }
      ]
    },
    {
      "cell_type": "code",
      "source": [
        "import random\n",
        "\n",
        "# Selecionar 20 jogos aleatórios da lista completa\n",
        "sample_games = random.sample(analyzer.games, 20)\n",
        "\n",
        "# Salvar a amostra em um novo arquivo CSV\n",
        "sample_file_path = '/content/sample_data/sample_steam_games.csv'\n",
        "\n",
        "with open(sample_file_path, mode='w', encoding='utf-8', newline='') as file:\n",
        "    writer = csv.DictWriter(file, fieldnames=analyzer.games[0].keys())\n",
        "    writer.writeheader()\n",
        "    writer.writerows(sample_games)\n",
        "\n",
        "print(f\"Amostra de 20 jogos salva em: {sample_file_path}\")"
      ],
      "metadata": {
        "colab": {
          "base_uri": "https://localhost:8080/"
        },
        "id": "Ykxkma8bHXKd",
        "outputId": "ed1c9392-bfc6-4eef-dc2b-41a9f97e9c41"
      },
      "execution_count": 24,
      "outputs": [
        {
          "output_type": "stream",
          "name": "stdout",
          "text": [
            "Amostra de 20 jogos salva em: /content/sample_data/sample_steam_games.csv\n"
          ]
        }
      ]
    },
    {
      "cell_type": "code",
      "source": [
        "# Selecione jogos gratuitos e pagos separadamente\n",
        "free_games = [game for game in analyzer.games if game['Price'].strip() == '0' or game['Price'].strip() == '0.00']\n",
        "paid_games = [game for game in analyzer.games if game['Price'].strip() != '0' and game['Price'].strip() != '0.00']\n",
        "\n",
        "# Selecione 10 de cada para garantir diversidade\n",
        "sample_free = random.sample(free_games, min(10, len(free_games)))\n",
        "sample_paid = random.sample(paid_games, min(10, len(paid_games)))\n",
        "\n",
        "# Combine as amostras\n",
        "sample_games = sample_free + sample_paid\n",
        "\n",
        "# Salvar a amostra em um novo arquivo CSV\n",
        "sample_file_path = '/content/sample_data/sample_steam_games.csv'\n",
        "\n",
        "with open(sample_file_path, mode='w', encoding='utf-8', newline='') as file:\n",
        "    writer = csv.DictWriter(file, fieldnames=analyzer.games[0].keys())\n",
        "    writer.writeheader()\n",
        "    writer.writerows(sample_games)\n",
        "\n",
        "print(f\"Amostra diversificada de 20 jogos salva em: {sample_file_path}\")"
      ],
      "metadata": {
        "colab": {
          "base_uri": "https://localhost:8080/"
        },
        "id": "oWM5x4DqHcWp",
        "outputId": "46fba8fd-c4fa-4da2-fddc-641d0784eda4"
      },
      "execution_count": 26,
      "outputs": [
        {
          "output_type": "stream",
          "name": "stdout",
          "text": [
            "Amostra diversificada de 20 jogos salva em: /content/sample_data/sample_steam_games.csv\n"
          ]
        }
      ]
    },
    {
      "cell_type": "code",
      "source": [
        "# Instanciação da classe com o arquivo da amostra\n",
        "sample_analyzer = SteamDataAnalyzer('/content/sample_data/sample_steam_games.csv')\n",
        "\n",
        "# Consulta 1: Percentual de jogos gratuitos e pagos na amostra\n",
        "sample_free_vs_paid = sample_analyzer.get_free_vs_paid_percentage()\n",
        "print(f\"Percentual de jogos gratuitos na amostra: {sample_free_vs_paid['free']:.2f}%\")\n",
        "print(f\"Percentual de jogos pagos na amostra: {sample_free_vs_paid['paid']:.2f}%\")\n",
        "\n",
        "# Consulta 2: Ano com o maior número de jogos lançados na amostra\n",
        "sample_most_active_years = sample_analyzer.get_year_with_most_games()\n",
        "print(f\"Ano(s) com o maior número de jogos lançados na amostra: {', '.join(sample_most_active_years)}\")\n",
        "\n",
        "# Consulta 3: Desenvolvedor mais prolífico na amostra\n",
        "sample_most_prolific_dev = sample_analyzer.get_most_prolific_developer()\n",
        "print(f\"Desenvolvedor(es) mais prolífico(s) na amostra: {', '.join(sample_most_prolific_dev)}\")"
      ],
      "metadata": {
        "colab": {
          "base_uri": "https://localhost:8080/"
        },
        "id": "vCt8hLTDHylG",
        "outputId": "40129cd2-2893-486d-fd61-2708160f0e53"
      },
      "execution_count": 27,
      "outputs": [
        {
          "output_type": "stream",
          "name": "stdout",
          "text": [
            "Percentual de jogos gratuitos na amostra: 0.00%\n",
            "Percentual de jogos pagos na amostra: 100.00%\n",
            "Ano(s) com o maior número de jogos lançados na amostra: 2022\n",
            "Desenvolvedor(es) mais prolífico(s) na amostra: FlexileStudio, Ready To Play, LP Studio, BITMEUP, Challenging Games, WZOGI, CMS Games LLC, Mcpoyle Games, W, Tom Brinton,Alex Morris,Nathan Thomson,Christian Walter\n"
          ]
        }
      ]
    }
  ]
}